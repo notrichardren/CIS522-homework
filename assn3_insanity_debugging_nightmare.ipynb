{
  "nbformat": 4,
  "nbformat_minor": 0,
  "metadata": {
    "colab": {
      "provenance": [],
      "authorship_tag": "ABX9TyO4Dn9bhJJxsu/+Nd/O6eYb",
      "include_colab_link": true
    },
    "kernelspec": {
      "name": "python3",
      "display_name": "Python 3"
    },
    "language_info": {
      "name": "python"
    }
  },
  "cells": [
    {
      "cell_type": "markdown",
      "metadata": {
        "id": "view-in-github",
        "colab_type": "text"
      },
      "source": [
        "<a href=\"https://colab.research.google.com/github/notrichardren/CIS522-homework/blob/main/assn3_insanity_debugging_nightmare.ipynb\" target=\"_parent\"><img src=\"https://colab.research.google.com/assets/colab-badge.svg\" alt=\"Open In Colab\"/></a>"
      ]
    },
    {
      "cell_type": "code",
      "execution_count": 1,
      "metadata": {
        "id": "idaCoIc4aUak"
      },
      "outputs": [],
      "source": [
        "# https://en.wikipedia.org/wiki/Normal_distribution\n",
        "def norm_logpdf(x, loc=0.0, scale=1.0):\n",
        "    return -np.log(scale) - 0.5*np.log(2.0*np.pi)-0.5*(x-loc)**2/scale**2\n",
        "\n",
        "# https://en.wikipedia.org/wiki/Gamma_distribution\n",
        "def gamma_logpdf(x, shape=0.0, scale=1.0):\n",
        "    return (shape-1.0)*np.log(x) - x/scale - lgamma(shape) - shape*np.log(scale)\n",
        "\n",
        "# https://en.wikipedia.org/wiki/Inverse-gamma_distribution\n",
        "def invgamma_logpdf(x, shape=0.0, scale=1.0):\n",
        "    return shape*np.log(scale) - (shape+1.0)*np.log(x) - scale/x - lgamma(shape)"
      ]
    },
    {
      "cell_type": "code",
      "source": [
        "import jax.numpy as np\n",
        "from jax import random\n",
        "from jax.experimental.ode import odeint\n",
        "import matplotlib.pyplot as plt\n",
        "import jax.numpy as np\n",
        "from jax import random, vmap, jit\n",
        "from jax.lax import scan, cond\n",
        "from functools import partial\n",
        "from jax.experimental import host_callback\n",
        "from tqdm.auto import tqdm\n",
        "import matplotlib.pyplot as plt\n",
        "from jax.lax import lgamma\n",
        "from jax import jit, vmap\n",
        "from jax.lax import scan, cond\n",
        "from functools import partial\n",
        "\n",
        "plt.rcParams.update({'font.size': 16})\n",
        "plt.rcParams['axes.linewidth']=3"
      ],
      "metadata": {
        "id": "ZI7eSgvoaZze"
      },
      "execution_count": 2,
      "outputs": []
    },
    {
      "cell_type": "code",
      "source": [
        "key = random.PRNGKey(0) # The answer to life, the universe, and everything.\n",
        "\n",
        "# Define true parameters\n",
        "alpha_true, beta_true, gamma_true = 1.5, -3.0, 1.0\n",
        "\n",
        "# Generate training data D = (x, y) where N = 200\n",
        "key, key2 = random.split(key)\n",
        "x = random.uniform(key, (200,), minval = 0.0, maxval = 3.0)\n",
        "epsilon_true = random.normal(key2, (200,))/np.sqrt(gamma_true)\n",
        "y = alpha_true*x + beta_true + epsilon_true\n",
        "plt.plot(x, y, \".\")"
      ],
      "metadata": {
        "colab": {
          "base_uri": "https://localhost:8080/",
          "height": 325
        },
        "id": "HAl0z9I7ah0h",
        "outputId": "0db73f32-3747-4810-b9ed-cacdbe30bebb"
      },
      "execution_count": 3,
      "outputs": [
        {
          "output_type": "stream",
          "name": "stderr",
          "text": [
            "WARNING:jax._src.xla_bridge:No GPU/TPU found, falling back to CPU. (Set TF_CPP_MIN_LOG_LEVEL=0 and rerun for more info.)\n"
          ]
        },
        {
          "output_type": "execute_result",
          "data": {
            "text/plain": [
              "[<matplotlib.lines.Line2D at 0x7faeb0822ca0>]"
            ]
          },
          "metadata": {},
          "execution_count": 3
        },
        {
          "output_type": "display_data",
          "data": {
            "text/plain": [
              "<Figure size 432x288 with 1 Axes>"
            ],
            "image/png": "[encoded data removed]"
          },
          "metadata": {
            "needs_background": "light"
          }
        }
      ]
    },
    {
      "cell_type": "code",
      "source": [
        "# Posterior distribution\n",
        "def log_prob(params):\n",
        "    alpha, beta, gamma = params\n",
        "    n = len(x)\n",
        "    likelihood = np.log(np.sqrt(gamma / (2 * np.pi)) ** n) * np.exp((-gamma * np.sum((y - x * alpha - beta) ** 2)) / 2)\n",
        "    prior_alpha = norm_logpdf(alpha, loc=0.0, scale=1.0) # mean=0, std1\n",
        "    prior_beta = norm_logpdf(beta, loc=0.0, scale=1.0) # mean=0, std=1\n",
        "    prior_gamma = gamma_logpdf(gamma, shape=2.0, scale=1.0)  # a=2, b=1\n",
        "    return likelihood + prior_alpha + prior_beta + prior_gamma\n",
        "\n",
        "def metropolis(log_prob, sigma):\n",
        "    def init(rng_key, bounds):\n",
        "        lb, ub = bounds\n",
        "        dim = lb.shape[0]\n",
        "        x0 = random.uniform(rng_key, (dim,), minval=lb, maxval=ub)\n",
        "        return x0\n",
        "    @partial(jit, static_argnums=(0,))\n",
        "    def sample(num_samples, rng_key, init_state):\n",
        "        def kernel(carry, i):\n",
        "            key, state, logp = carry\n",
        "            key, subkey = random.split(key)\n",
        "            x = state + sigma * random.normal(subkey, state.shape)\n",
        "            logp_prop = log_prob(x)\n",
        "            u = random.uniform(key)\n",
        "            cond = (u < np.exp(logp_prop - logp))\n",
        "            state = np.where(cond, x, state)\n",
        "            logp = np.where(cond, logp_prop, logp)\n",
        "            return (key, state, logp), state\n",
        "        logp = log_prob(init_state)\n",
        "        _, samples = scan(kernel, (rng_key, init_state, logp), np.arange(num_samples))\n",
        "        return samples\n",
        "    return init, sample"
      ],
      "metadata": {
        "id": "hLjpp2rZakJt"
      },
      "execution_count": 4,
      "outputs": []
    },
    {
      "cell_type": "code",
      "source": [
        "# Define metropolis algorithm\n",
        "step_size = 0.005\n",
        "init_fn, sample_fn = metropolis(log_prob, step_size)\n",
        "\n",
        "# Set bounds, numsteps\n",
        "lb = np.array([-5.0, -5.0, -5.0])\n",
        "ub = np.array([5.0, 5.0, 5.0])\n",
        "burn_in = 2000\n",
        "num_steps = 5000\n",
        "init_state = init_fn(key, (lb, ub))\n",
        "\n",
        "# Generate samples\n",
        "samples = sample_fn(num_steps, key, init_state)[burn_in:,:]\n",
        "samples_alpha = samples[:, 0]\n",
        "samples_beta = samples[:, 1]\n",
        "samples_gamma = samples[:, 2]"
      ],
      "metadata": {
        "id": "OBquk-jfarWL"
      },
      "execution_count": 5,
      "outputs": []
    },
    {
      "cell_type": "code",
      "source": [
        "samples_alpha\n",
        "#HOW\n",
        "# WHY IS IT ALL THE SAME"
      ],
      "metadata": {
        "colab": {
          "base_uri": "https://localhost:8080/"
        },
        "id": "-8N-qSqaaxim",
        "outputId": "a1059f35-f785-42bc-c844-79aa7288bdec"
      },
      "execution_count": 6,
      "outputs": [
        {
          "output_type": "execute_result",
          "data": {
            "text/plain": [
              "Array([0.552479, 0.552479, 0.552479, ..., 0.552479, 0.552479, 0.552479],      dtype=float32)"
            ]
          },
          "metadata": {},
          "execution_count": 6
        }
      ]
    }
  ]
}